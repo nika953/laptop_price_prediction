{
 "cells": [
  {
   "cell_type": "code",
   "execution_count": 141,
   "metadata": {},
   "outputs": [],
   "source": [
    "import pandas as pd"
   ]
  },
  {
   "cell_type": "code",
   "execution_count": 142,
   "metadata": {},
   "outputs": [],
   "source": [
    "data = pd.read_csv('prepared_data.csv')"
   ]
  },
  {
   "cell_type": "code",
   "execution_count": 143,
   "metadata": {},
   "outputs": [],
   "source": [
    "x_columns = ['Company', 'TypeName', 'Inches', 'Cpu', 'Ram', 'Memory', 'Gpu', 'OpSys', 'Weight', 'Memory_Type']\n",
    "y_columns = ['Price_euros']"
   ]
  },
  {
   "cell_type": "code",
   "execution_count": 144,
   "metadata": {},
   "outputs": [],
   "source": [
    "X = data[x_columns]\n",
    "Y = data[y_columns]"
   ]
  },
  {
   "cell_type": "code",
   "execution_count": 145,
   "metadata": {},
   "outputs": [],
   "source": [
    "from sklearn.model_selection import train_test_split"
   ]
  },
  {
   "cell_type": "code",
   "execution_count": 146,
   "metadata": {},
   "outputs": [],
   "source": [
    "X_train, X_test, Y_train, Y_test = train_test_split(X, Y, test_size=0.2, shuffle=True)"
   ]
  },
  {
   "cell_type": "markdown",
   "metadata": {},
   "source": [
    "# Линейная регрессия"
   ]
  },
  {
   "cell_type": "code",
   "execution_count": 147,
   "metadata": {},
   "outputs": [],
   "source": [
    "from sklearn.linear_model import LinearRegression"
   ]
  },
  {
   "cell_type": "code",
   "execution_count": 148,
   "metadata": {},
   "outputs": [],
   "source": [
    "Linear_Regressor = LinearRegression()"
   ]
  },
  {
   "cell_type": "code",
   "execution_count": 149,
   "metadata": {},
   "outputs": [
    {
     "data": {
      "text/html": [
       "<style>#sk-container-id-12 {color: black;}#sk-container-id-12 pre{padding: 0;}#sk-container-id-12 div.sk-toggleable {background-color: white;}#sk-container-id-12 label.sk-toggleable__label {cursor: pointer;display: block;width: 100%;margin-bottom: 0;padding: 0.3em;box-sizing: border-box;text-align: center;}#sk-container-id-12 label.sk-toggleable__label-arrow:before {content: \"▸\";float: left;margin-right: 0.25em;color: #696969;}#sk-container-id-12 label.sk-toggleable__label-arrow:hover:before {color: black;}#sk-container-id-12 div.sk-estimator:hover label.sk-toggleable__label-arrow:before {color: black;}#sk-container-id-12 div.sk-toggleable__content {max-height: 0;max-width: 0;overflow: hidden;text-align: left;background-color: #f0f8ff;}#sk-container-id-12 div.sk-toggleable__content pre {margin: 0.2em;color: black;border-radius: 0.25em;background-color: #f0f8ff;}#sk-container-id-12 input.sk-toggleable__control:checked~div.sk-toggleable__content {max-height: 200px;max-width: 100%;overflow: auto;}#sk-container-id-12 input.sk-toggleable__control:checked~label.sk-toggleable__label-arrow:before {content: \"▾\";}#sk-container-id-12 div.sk-estimator input.sk-toggleable__control:checked~label.sk-toggleable__label {background-color: #d4ebff;}#sk-container-id-12 div.sk-label input.sk-toggleable__control:checked~label.sk-toggleable__label {background-color: #d4ebff;}#sk-container-id-12 input.sk-hidden--visually {border: 0;clip: rect(1px 1px 1px 1px);clip: rect(1px, 1px, 1px, 1px);height: 1px;margin: -1px;overflow: hidden;padding: 0;position: absolute;width: 1px;}#sk-container-id-12 div.sk-estimator {font-family: monospace;background-color: #f0f8ff;border: 1px dotted black;border-radius: 0.25em;box-sizing: border-box;margin-bottom: 0.5em;}#sk-container-id-12 div.sk-estimator:hover {background-color: #d4ebff;}#sk-container-id-12 div.sk-parallel-item::after {content: \"\";width: 100%;border-bottom: 1px solid gray;flex-grow: 1;}#sk-container-id-12 div.sk-label:hover label.sk-toggleable__label {background-color: #d4ebff;}#sk-container-id-12 div.sk-serial::before {content: \"\";position: absolute;border-left: 1px solid gray;box-sizing: border-box;top: 0;bottom: 0;left: 50%;z-index: 0;}#sk-container-id-12 div.sk-serial {display: flex;flex-direction: column;align-items: center;background-color: white;padding-right: 0.2em;padding-left: 0.2em;position: relative;}#sk-container-id-12 div.sk-item {position: relative;z-index: 1;}#sk-container-id-12 div.sk-parallel {display: flex;align-items: stretch;justify-content: center;background-color: white;position: relative;}#sk-container-id-12 div.sk-item::before, #sk-container-id-12 div.sk-parallel-item::before {content: \"\";position: absolute;border-left: 1px solid gray;box-sizing: border-box;top: 0;bottom: 0;left: 50%;z-index: -1;}#sk-container-id-12 div.sk-parallel-item {display: flex;flex-direction: column;z-index: 1;position: relative;background-color: white;}#sk-container-id-12 div.sk-parallel-item:first-child::after {align-self: flex-end;width: 50%;}#sk-container-id-12 div.sk-parallel-item:last-child::after {align-self: flex-start;width: 50%;}#sk-container-id-12 div.sk-parallel-item:only-child::after {width: 0;}#sk-container-id-12 div.sk-dashed-wrapped {border: 1px dashed gray;margin: 0 0.4em 0.5em 0.4em;box-sizing: border-box;padding-bottom: 0.4em;background-color: white;}#sk-container-id-12 div.sk-label label {font-family: monospace;font-weight: bold;display: inline-block;line-height: 1.2em;}#sk-container-id-12 div.sk-label-container {text-align: center;}#sk-container-id-12 div.sk-container {/* jupyter's `normalize.less` sets `[hidden] { display: none; }` but bootstrap.min.css set `[hidden] { display: none !important; }` so we also need the `!important` here to be able to override the default hidden behavior on the sphinx rendered scikit-learn.org. See: https://github.com/scikit-learn/scikit-learn/issues/21755 */display: inline-block !important;position: relative;}#sk-container-id-12 div.sk-text-repr-fallback {display: none;}</style><div id=\"sk-container-id-12\" class=\"sk-top-container\"><div class=\"sk-text-repr-fallback\"><pre>LinearRegression()</pre><b>In a Jupyter environment, please rerun this cell to show the HTML representation or trust the notebook. <br />On GitHub, the HTML representation is unable to render, please try loading this page with nbviewer.org.</b></div><div class=\"sk-container\" hidden><div class=\"sk-item\"><div class=\"sk-estimator sk-toggleable\"><input class=\"sk-toggleable__control sk-hidden--visually\" id=\"sk-estimator-id-12\" type=\"checkbox\" checked><label for=\"sk-estimator-id-12\" class=\"sk-toggleable__label sk-toggleable__label-arrow\">LinearRegression</label><div class=\"sk-toggleable__content\"><pre>LinearRegression()</pre></div></div></div></div></div>"
      ],
      "text/plain": [
       "LinearRegression()"
      ]
     },
     "execution_count": 149,
     "metadata": {},
     "output_type": "execute_result"
    }
   ],
   "source": [
    "Linear_Regressor.fit(X_train, Y_train)"
   ]
  },
  {
   "cell_type": "code",
   "execution_count": 150,
   "metadata": {},
   "outputs": [],
   "source": [
    "Y_pred = Linear_Regressor.predict(X_test)"
   ]
  },
  {
   "cell_type": "code",
   "execution_count": 151,
   "metadata": {},
   "outputs": [
    {
     "data": {
      "text/html": [
       "<div>\n",
       "<style scoped>\n",
       "    .dataframe tbody tr th:only-of-type {\n",
       "        vertical-align: middle;\n",
       "    }\n",
       "\n",
       "    .dataframe tbody tr th {\n",
       "        vertical-align: top;\n",
       "    }\n",
       "\n",
       "    .dataframe thead th {\n",
       "        text-align: right;\n",
       "    }\n",
       "</style>\n",
       "<table border=\"1\" class=\"dataframe\">\n",
       "  <thead>\n",
       "    <tr style=\"text-align: right;\">\n",
       "      <th></th>\n",
       "      <th>Price_euros</th>\n",
       "    </tr>\n",
       "  </thead>\n",
       "  <tbody>\n",
       "    <tr>\n",
       "      <th>612</th>\n",
       "      <td>443.90</td>\n",
       "    </tr>\n",
       "    <tr>\n",
       "      <th>820</th>\n",
       "      <td>489.90</td>\n",
       "    </tr>\n",
       "    <tr>\n",
       "      <th>745</th>\n",
       "      <td>330.00</td>\n",
       "    </tr>\n",
       "    <tr>\n",
       "      <th>59</th>\n",
       "      <td>415.00</td>\n",
       "    </tr>\n",
       "    <tr>\n",
       "      <th>541</th>\n",
       "      <td>735.87</td>\n",
       "    </tr>\n",
       "    <tr>\n",
       "      <th>...</th>\n",
       "      <td>...</td>\n",
       "    </tr>\n",
       "    <tr>\n",
       "      <th>1054</th>\n",
       "      <td>2254.00</td>\n",
       "    </tr>\n",
       "    <tr>\n",
       "      <th>430</th>\n",
       "      <td>269.00</td>\n",
       "    </tr>\n",
       "    <tr>\n",
       "      <th>445</th>\n",
       "      <td>1179.00</td>\n",
       "    </tr>\n",
       "    <tr>\n",
       "      <th>707</th>\n",
       "      <td>1855.00</td>\n",
       "    </tr>\n",
       "    <tr>\n",
       "      <th>412</th>\n",
       "      <td>469.00</td>\n",
       "    </tr>\n",
       "  </tbody>\n",
       "</table>\n",
       "<p>261 rows × 1 columns</p>\n",
       "</div>"
      ],
      "text/plain": [
       "      Price_euros\n",
       "612        443.90\n",
       "820        489.90\n",
       "745        330.00\n",
       "59         415.00\n",
       "541        735.87\n",
       "...           ...\n",
       "1054      2254.00\n",
       "430        269.00\n",
       "445       1179.00\n",
       "707       1855.00\n",
       "412        469.00\n",
       "\n",
       "[261 rows x 1 columns]"
      ]
     },
     "execution_count": 151,
     "metadata": {},
     "output_type": "execute_result"
    }
   ],
   "source": [
    "Y_test"
   ]
  },
  {
   "cell_type": "code",
   "execution_count": 152,
   "metadata": {},
   "outputs": [
    {
     "data": {
      "text/plain": [
       "array([[ 310.96340824],\n",
       "       [ 452.49260026],\n",
       "       [ -49.60120667],\n",
       "       [ 429.08793875],\n",
       "       [ 744.57495382],\n",
       "       [ 634.47480986],\n",
       "       [1236.79331218],\n",
       "       [1346.69805336],\n",
       "       [ 858.07618674],\n",
       "       [1179.9567164 ],\n",
       "       [ 396.66154033],\n",
       "       [1224.66750869],\n",
       "       [ 777.02118381],\n",
       "       [ 777.02118381],\n",
       "       [ 703.00333714],\n",
       "       [ 634.40395356],\n",
       "       [ 909.52974597],\n",
       "       [1357.29895369],\n",
       "       [1845.1342122 ],\n",
       "       [ 391.17174561],\n",
       "       [  85.88110064],\n",
       "       [ 800.6554577 ],\n",
       "       [1452.07966165],\n",
       "       [ 777.83740349],\n",
       "       [ 327.64132224],\n",
       "       [ 214.27560465],\n",
       "       [ 921.00797448],\n",
       "       [ 490.88077438],\n",
       "       [ 202.96252462],\n",
       "       [1162.10167321],\n",
       "       [1868.84692689],\n",
       "       [ 778.77111205],\n",
       "       [1298.22600475],\n",
       "       [1128.9525424 ],\n",
       "       [1861.70604405],\n",
       "       [ 387.24576355],\n",
       "       [ 879.70148316],\n",
       "       [1414.46801464],\n",
       "       [ 214.13951947],\n",
       "       [1185.14652375],\n",
       "       [ 681.80907824],\n",
       "       [1236.97043988],\n",
       "       [1120.56645437],\n",
       "       [ 694.51743914],\n",
       "       [ 753.36408272],\n",
       "       [1160.84063757],\n",
       "       [2124.56481968],\n",
       "       [1283.94926883],\n",
       "       [1283.21992682],\n",
       "       [  76.82847947],\n",
       "       [ 635.97265887],\n",
       "       [1196.40601431],\n",
       "       [ 916.69268566],\n",
       "       [ 481.59969688],\n",
       "       [1729.66398966],\n",
       "       [1957.33209434],\n",
       "       [1883.23088265],\n",
       "       [1019.25929995],\n",
       "       [1052.7151717 ],\n",
       "       [1090.69835495],\n",
       "       [ 997.81162928],\n",
       "       [1351.14012106],\n",
       "       [1155.59472951],\n",
       "       [ 856.6936019 ],\n",
       "       [ 391.17174561],\n",
       "       [1465.45964992],\n",
       "       [1452.03804346],\n",
       "       [1572.1021855 ],\n",
       "       [1006.1141642 ],\n",
       "       [1339.98365622],\n",
       "       [1286.18466638],\n",
       "       [1763.07327265],\n",
       "       [1391.60369536],\n",
       "       [1319.79301707],\n",
       "       [1513.77678932],\n",
       "       [1279.82921391],\n",
       "       [ 184.97003002],\n",
       "       [1013.61881728],\n",
       "       [1052.7151717 ],\n",
       "       [ 929.64201868],\n",
       "       [1911.77151397],\n",
       "       [ 287.19026891],\n",
       "       [2573.28288713],\n",
       "       [ 754.85920384],\n",
       "       [ 194.95071883],\n",
       "       [1590.31945899],\n",
       "       [1424.35244907],\n",
       "       [1558.85349149],\n",
       "       [1593.54197031],\n",
       "       [1140.43473238],\n",
       "       [   8.18154318],\n",
       "       [1548.38664127],\n",
       "       [ 534.90915988],\n",
       "       [1628.55985229],\n",
       "       [1006.1594734 ],\n",
       "       [1243.10539943],\n",
       "       [2118.23817523],\n",
       "       [ 269.48510545],\n",
       "       [1397.63546955],\n",
       "       [1081.78623732],\n",
       "       [ 899.57958342],\n",
       "       [ 631.19141237],\n",
       "       [ 996.18216316],\n",
       "       [2026.90820193],\n",
       "       [1628.4281042 ],\n",
       "       [ 610.38910722],\n",
       "       [2012.04058748],\n",
       "       [1802.93708329],\n",
       "       [1087.7922563 ],\n",
       "       [ 490.01395957],\n",
       "       [ 738.90387534],\n",
       "       [ 472.22837787],\n",
       "       [ 242.28673597],\n",
       "       [ 441.60991169],\n",
       "       [ 983.84910754],\n",
       "       [1862.29467542],\n",
       "       [ 867.93749734],\n",
       "       [ 725.34069536],\n",
       "       [1126.29188923],\n",
       "       [ 642.89141135],\n",
       "       [1296.2390009 ],\n",
       "       [1168.23972175],\n",
       "       [1004.19365753],\n",
       "       [ 116.55987109],\n",
       "       [ 530.13051143],\n",
       "       [1389.04627688],\n",
       "       [ 862.71746181],\n",
       "       [1164.69196118],\n",
       "       [ 192.35998035],\n",
       "       [1356.31268666],\n",
       "       [ 501.70244067],\n",
       "       [ 818.20668095],\n",
       "       [1065.43200885],\n",
       "       [ 461.25289827],\n",
       "       [1482.45497151],\n",
       "       [1869.33742984],\n",
       "       [1283.00027217],\n",
       "       [ 974.00902283],\n",
       "       [1581.95379359],\n",
       "       [ 839.41470097],\n",
       "       [1785.77633806],\n",
       "       [ 610.29754667],\n",
       "       [ 976.25031367],\n",
       "       [ 215.65709602],\n",
       "       [ 150.1308044 ],\n",
       "       [ 251.25280593],\n",
       "       [ 778.78306221],\n",
       "       [1105.36874658],\n",
       "       [1841.29680059],\n",
       "       [ 392.67500185],\n",
       "       [1845.38765751],\n",
       "       [1420.71454899],\n",
       "       [ 877.93301194],\n",
       "       [ 876.28534147],\n",
       "       [1249.03293471],\n",
       "       [ 647.94634467],\n",
       "       [1556.15266553],\n",
       "       [1556.15266553],\n",
       "       [1011.72082394],\n",
       "       [1927.01988478],\n",
       "       [ 303.82374711],\n",
       "       [1087.7922563 ],\n",
       "       [ 604.19506502],\n",
       "       [1841.96531629],\n",
       "       [1366.34190277],\n",
       "       [1625.27004284],\n",
       "       [ 333.87502482],\n",
       "       [2860.83592242],\n",
       "       [1053.33709701],\n",
       "       [ 981.90602614],\n",
       "       [1957.62562258],\n",
       "       [1824.7381352 ],\n",
       "       [1136.41728483],\n",
       "       [2124.56481968],\n",
       "       [1215.37092412],\n",
       "       [1094.20741888],\n",
       "       [1116.30477784],\n",
       "       [ 489.37911722],\n",
       "       [ 772.77045711],\n",
       "       [1432.36083715],\n",
       "       [1212.60650649],\n",
       "       [1977.30924701],\n",
       "       [ 715.9128435 ],\n",
       "       [1527.76165941],\n",
       "       [ 452.14086104],\n",
       "       [ 604.25028805],\n",
       "       [1369.47934399],\n",
       "       [ 360.52498788],\n",
       "       [1718.06370105],\n",
       "       [1875.35061369],\n",
       "       [ 404.74846329],\n",
       "       [1461.02173093],\n",
       "       [1868.84212602],\n",
       "       [ 790.82223581],\n",
       "       [ 419.7184595 ],\n",
       "       [1427.57696376],\n",
       "       [1446.36626702],\n",
       "       [1289.22258543],\n",
       "       [1955.16016454],\n",
       "       [1485.72111362],\n",
       "       [1975.30886141],\n",
       "       [1527.32246893],\n",
       "       [ 871.31157851],\n",
       "       [ 969.83577852],\n",
       "       [ 595.97416643],\n",
       "       [2105.58488634],\n",
       "       [ 671.63792967],\n",
       "       [1956.6452603 ],\n",
       "       [1911.60017296],\n",
       "       [1153.13681709],\n",
       "       [1218.81696863],\n",
       "       [1320.5013992 ],\n",
       "       [ 416.09213279],\n",
       "       [1985.89246534],\n",
       "       [1414.46801464],\n",
       "       [ 916.96416769],\n",
       "       [3262.05236276],\n",
       "       [ 395.01119719],\n",
       "       [2054.74543749],\n",
       "       [ 608.52555576],\n",
       "       [1723.44273418],\n",
       "       [ 169.55875169],\n",
       "       [ 839.41470097],\n",
       "       [ 226.43725141],\n",
       "       [1158.74975508],\n",
       "       [1830.69551362],\n",
       "       [ 533.76648718],\n",
       "       [ 654.67234755],\n",
       "       [ 493.80565299],\n",
       "       [ 277.85524828],\n",
       "       [1870.88621447],\n",
       "       [1193.24269209],\n",
       "       [1825.3973588 ],\n",
       "       [1984.75713184],\n",
       "       [2747.03269677],\n",
       "       [ 678.64575602],\n",
       "       [ 177.43448094],\n",
       "       [1113.32656137],\n",
       "       [1279.06531251],\n",
       "       [ 169.29434974],\n",
       "       [2097.04100289],\n",
       "       [ 881.21240217],\n",
       "       [1187.4140779 ],\n",
       "       [1521.3513967 ],\n",
       "       [1116.9155331 ],\n",
       "       [1942.50935527],\n",
       "       [ 725.73313465],\n",
       "       [1338.3597994 ],\n",
       "       [1841.29680059],\n",
       "       [1459.38411079],\n",
       "       [ 996.81053436],\n",
       "       [1856.16703206],\n",
       "       [ 977.31332737],\n",
       "       [1533.64911337],\n",
       "       [2598.17623865],\n",
       "       [1293.51917998],\n",
       "       [1946.39461011],\n",
       "       [ 343.26023988],\n",
       "       [1131.97903514],\n",
       "       [2592.49334624],\n",
       "       [ 384.45465386]])"
      ]
     },
     "execution_count": 152,
     "metadata": {},
     "output_type": "execute_result"
    }
   ],
   "source": [
    "Y_pred"
   ]
  },
  {
   "cell_type": "code",
   "execution_count": 153,
   "metadata": {},
   "outputs": [],
   "source": [
    "from sklearn.metrics import mean_absolute_error, mean_absolute_percentage_error\n"
   ]
  },
  {
   "cell_type": "code",
   "execution_count": 154,
   "metadata": {},
   "outputs": [
    {
     "data": {
      "text/plain": [
       "231.16197422245244"
      ]
     },
     "execution_count": 154,
     "metadata": {},
     "output_type": "execute_result"
    }
   ],
   "source": [
    "mean_absolute_error(Y_test, Y_pred)"
   ]
  },
  {
   "cell_type": "code",
   "execution_count": 155,
   "metadata": {},
   "outputs": [
    {
     "data": {
      "text/plain": [
       "25.580654847694518"
      ]
     },
     "execution_count": 155,
     "metadata": {},
     "output_type": "execute_result"
    }
   ],
   "source": [
    "mean_absolute_percentage_error(Y_test, Y_pred) * 100"
   ]
  },
  {
   "cell_type": "markdown",
   "metadata": {},
   "source": [
    "# Дерево решений"
   ]
  },
  {
   "cell_type": "code",
   "execution_count": 156,
   "metadata": {},
   "outputs": [],
   "source": [
    "from sklearn.tree import DecisionTreeRegressor"
   ]
  },
  {
   "cell_type": "code",
   "execution_count": 157,
   "metadata": {},
   "outputs": [],
   "source": [
    "tree = DecisionTreeRegressor(max_depth=15, min_samples_split=30, min_samples_leaf=10)"
   ]
  },
  {
   "cell_type": "code",
   "execution_count": 158,
   "metadata": {},
   "outputs": [
    {
     "data": {
      "text/html": [
       "<style>#sk-container-id-13 {color: black;}#sk-container-id-13 pre{padding: 0;}#sk-container-id-13 div.sk-toggleable {background-color: white;}#sk-container-id-13 label.sk-toggleable__label {cursor: pointer;display: block;width: 100%;margin-bottom: 0;padding: 0.3em;box-sizing: border-box;text-align: center;}#sk-container-id-13 label.sk-toggleable__label-arrow:before {content: \"▸\";float: left;margin-right: 0.25em;color: #696969;}#sk-container-id-13 label.sk-toggleable__label-arrow:hover:before {color: black;}#sk-container-id-13 div.sk-estimator:hover label.sk-toggleable__label-arrow:before {color: black;}#sk-container-id-13 div.sk-toggleable__content {max-height: 0;max-width: 0;overflow: hidden;text-align: left;background-color: #f0f8ff;}#sk-container-id-13 div.sk-toggleable__content pre {margin: 0.2em;color: black;border-radius: 0.25em;background-color: #f0f8ff;}#sk-container-id-13 input.sk-toggleable__control:checked~div.sk-toggleable__content {max-height: 200px;max-width: 100%;overflow: auto;}#sk-container-id-13 input.sk-toggleable__control:checked~label.sk-toggleable__label-arrow:before {content: \"▾\";}#sk-container-id-13 div.sk-estimator input.sk-toggleable__control:checked~label.sk-toggleable__label {background-color: #d4ebff;}#sk-container-id-13 div.sk-label input.sk-toggleable__control:checked~label.sk-toggleable__label {background-color: #d4ebff;}#sk-container-id-13 input.sk-hidden--visually {border: 0;clip: rect(1px 1px 1px 1px);clip: rect(1px, 1px, 1px, 1px);height: 1px;margin: -1px;overflow: hidden;padding: 0;position: absolute;width: 1px;}#sk-container-id-13 div.sk-estimator {font-family: monospace;background-color: #f0f8ff;border: 1px dotted black;border-radius: 0.25em;box-sizing: border-box;margin-bottom: 0.5em;}#sk-container-id-13 div.sk-estimator:hover {background-color: #d4ebff;}#sk-container-id-13 div.sk-parallel-item::after {content: \"\";width: 100%;border-bottom: 1px solid gray;flex-grow: 1;}#sk-container-id-13 div.sk-label:hover label.sk-toggleable__label {background-color: #d4ebff;}#sk-container-id-13 div.sk-serial::before {content: \"\";position: absolute;border-left: 1px solid gray;box-sizing: border-box;top: 0;bottom: 0;left: 50%;z-index: 0;}#sk-container-id-13 div.sk-serial {display: flex;flex-direction: column;align-items: center;background-color: white;padding-right: 0.2em;padding-left: 0.2em;position: relative;}#sk-container-id-13 div.sk-item {position: relative;z-index: 1;}#sk-container-id-13 div.sk-parallel {display: flex;align-items: stretch;justify-content: center;background-color: white;position: relative;}#sk-container-id-13 div.sk-item::before, #sk-container-id-13 div.sk-parallel-item::before {content: \"\";position: absolute;border-left: 1px solid gray;box-sizing: border-box;top: 0;bottom: 0;left: 50%;z-index: -1;}#sk-container-id-13 div.sk-parallel-item {display: flex;flex-direction: column;z-index: 1;position: relative;background-color: white;}#sk-container-id-13 div.sk-parallel-item:first-child::after {align-self: flex-end;width: 50%;}#sk-container-id-13 div.sk-parallel-item:last-child::after {align-self: flex-start;width: 50%;}#sk-container-id-13 div.sk-parallel-item:only-child::after {width: 0;}#sk-container-id-13 div.sk-dashed-wrapped {border: 1px dashed gray;margin: 0 0.4em 0.5em 0.4em;box-sizing: border-box;padding-bottom: 0.4em;background-color: white;}#sk-container-id-13 div.sk-label label {font-family: monospace;font-weight: bold;display: inline-block;line-height: 1.2em;}#sk-container-id-13 div.sk-label-container {text-align: center;}#sk-container-id-13 div.sk-container {/* jupyter's `normalize.less` sets `[hidden] { display: none; }` but bootstrap.min.css set `[hidden] { display: none !important; }` so we also need the `!important` here to be able to override the default hidden behavior on the sphinx rendered scikit-learn.org. See: https://github.com/scikit-learn/scikit-learn/issues/21755 */display: inline-block !important;position: relative;}#sk-container-id-13 div.sk-text-repr-fallback {display: none;}</style><div id=\"sk-container-id-13\" class=\"sk-top-container\"><div class=\"sk-text-repr-fallback\"><pre>DecisionTreeRegressor(max_depth=15, min_samples_leaf=10, min_samples_split=30)</pre><b>In a Jupyter environment, please rerun this cell to show the HTML representation or trust the notebook. <br />On GitHub, the HTML representation is unable to render, please try loading this page with nbviewer.org.</b></div><div class=\"sk-container\" hidden><div class=\"sk-item\"><div class=\"sk-estimator sk-toggleable\"><input class=\"sk-toggleable__control sk-hidden--visually\" id=\"sk-estimator-id-13\" type=\"checkbox\" checked><label for=\"sk-estimator-id-13\" class=\"sk-toggleable__label sk-toggleable__label-arrow\">DecisionTreeRegressor</label><div class=\"sk-toggleable__content\"><pre>DecisionTreeRegressor(max_depth=15, min_samples_leaf=10, min_samples_split=30)</pre></div></div></div></div></div>"
      ],
      "text/plain": [
       "DecisionTreeRegressor(max_depth=15, min_samples_leaf=10, min_samples_split=30)"
      ]
     },
     "execution_count": 158,
     "metadata": {},
     "output_type": "execute_result"
    }
   ],
   "source": [
    "tree.fit(X_train, Y_train)"
   ]
  },
  {
   "cell_type": "code",
   "execution_count": 159,
   "metadata": {},
   "outputs": [],
   "source": [
    "pred = tree.predict(X_test)"
   ]
  },
  {
   "cell_type": "code",
   "execution_count": 160,
   "metadata": {},
   "outputs": [
    {
     "data": {
      "text/plain": [
       "19.50703516174293"
      ]
     },
     "execution_count": 160,
     "metadata": {},
     "output_type": "execute_result"
    }
   ],
   "source": [
    "mean_absolute_percentage_error(Y_test, pred) * 100"
   ]
  },
  {
   "cell_type": "code",
   "execution_count": 161,
   "metadata": {},
   "outputs": [],
   "source": [
    "from sklearn.tree import plot_tree\n",
    "import matplotlib.pyplot as plt"
   ]
  },
  {
   "cell_type": "code",
   "execution_count": 162,
   "metadata": {},
   "outputs": [],
   "source": [
    "# plt.figure(figsize=(30,45))\n",
    "# plot_tree(tree, feature_names=x_columns, filled=True)"
   ]
  },
  {
   "cell_type": "code",
   "execution_count": 163,
   "metadata": {},
   "outputs": [],
   "source": [
    "r = tree.predict(X_train)"
   ]
  },
  {
   "cell_type": "code",
   "execution_count": 164,
   "metadata": {},
   "outputs": [
    {
     "data": {
      "text/plain": [
       "16.75836277912996"
      ]
     },
     "execution_count": 164,
     "metadata": {},
     "output_type": "execute_result"
    }
   ],
   "source": [
    "mean_absolute_percentage_error(Y_train, r) *100"
   ]
  }
 ],
 "metadata": {
  "kernelspec": {
   "display_name": "Python 3",
   "language": "python",
   "name": "python3"
  },
  "language_info": {
   "codemirror_mode": {
    "name": "ipython",
    "version": 3
   },
   "file_extension": ".py",
   "mimetype": "text/x-python",
   "name": "python",
   "nbconvert_exporter": "python",
   "pygments_lexer": "ipython3",
   "version": "3.10.12"
  }
 },
 "nbformat": 4,
 "nbformat_minor": 2
}
